{
  "nbformat": 4,
  "nbformat_minor": 0,
  "metadata": {
    "colab": {
      "provenance": []
    },
    "kernelspec": {
      "name": "python3",
      "display_name": "Python 3"
    },
    "language_info": {
      "name": "python"
    }
  },
  "cells": [
    {
      "cell_type": "markdown",
      "source": [
        "#Introduction to regression\n"
      ],
      "metadata": {
        "id": "6fIBgbWvk-wL"
      }
    },
    {
      "cell_type": "code",
      "source": [
        "import tensorflow as tf\n",
        "print(tf.__version__)"
      ],
      "metadata": {
        "colab": {
          "base_uri": "https://localhost:8080/"
        },
        "id": "FpWhujcq8yZD",
        "outputId": "0faf1a2f-a58e-4856-b0f8-8b62f633ccb7"
      },
      "execution_count": null,
      "outputs": [
        {
          "output_type": "stream",
          "name": "stdout",
          "text": [
            "2.17.1\n"
          ]
        }
      ]
    },
    {
      "cell_type": "code",
      "source": [
        "#creating data to view and fit\n",
        "import numpy as np\n",
        "import matplotlib.pyplot as plt\n",
        "\n",
        "#create features\n",
        "X = np.array([-7.0,-4.0,-1.0,2.0,5.0,8.0,11.0,14.0])\n",
        "\n",
        "#create labels\n",
        "\n",
        "y = np.array([3.0,6.0,9.0,12.0,15.0,18.0,21.0,24.0])\n",
        "\n",
        "\n",
        "#visualize\n",
        "\n",
        "plt.scatter(X,y)"
      ],
      "metadata": {
        "colab": {
          "base_uri": "https://localhost:8080/"
        },
        "id": "Ab3-1O119Ag7",
        "outputId": "69bb4e24-9a49-46c6-904e-c9d7771f656a"
      },
      "execution_count": null,
      "outputs": [
        {
          "output_type": "execute_result",
          "data": {
            "text/plain": [
              "<matplotlib.collections.PathCollection at 0x79512cec59c0>"
            ]
          },
          "metadata": {},
          "execution_count": 2
        },
        {
          "output_type": "display_data",
          "data": {
            "text/plain": [
              "<Figure size 640x480 with 1 Axes>"
            ],
            "image/png": "[encoded data removed]"
          },
          "metadata": {}
        }
      ]
    },
    {
      "cell_type": "markdown",
      "source": [
        "#input and output shapes\n"
      ],
      "metadata": {
        "id": "LrcBwR1R-VX2"
      }
    },
    {
      "cell_type": "code",
      "source": [
        "#demo tensor for house prediction problem\n",
        "#we can also use strings in tensor the dtype of tensor will be object and the length of string doesn't matter here\n",
        "\n",
        "house_info = tf.constant([\"bedroom\",\"bathroom\",\"garage\"])\n",
        "\n",
        "house_price = tf.constant([939700])\n",
        "\n",
        "house_info, house_price\n"
      ],
      "metadata": {
        "colab": {
          "base_uri": "https://localhost:8080/"
        },
        "id": "h-h_6PtdtMIg",
        "outputId": "84e83068-8371-4890-ec82-bc362e4eb9e1"
      },
      "execution_count": null,
      "outputs": [
        {
          "output_type": "execute_result",
          "data": {
            "text/plain": [
              "(<tf.Tensor: shape=(3,), dtype=string, numpy=array([b'bedroom', b'bathroom', b'garage'], dtype=object)>,\n",
              " <tf.Tensor: shape=(1,), dtype=int32, numpy=array([939700], dtype=int32)>)"
            ]
          },
          "metadata": {},
          "execution_count": 3
        }
      ]
    },
    {
      "cell_type": "code",
      "source": [
        "input_shape = X.shape\n",
        "output_shape = y.shape\n",
        "input_shape, output_shape\n",
        "\n",
        "# careful , the above features and labels data are still numpy and tensorflow models only works with tensors\n",
        "# so yeah, we have to convert numpy to tensors\n",
        "\n",
        "\n"
      ],
      "metadata": {
        "colab": {
          "base_uri": "https://localhost:8080/"
        },
        "id": "cJ-uIsLFuep4",
        "outputId": "06f10844-f4ef-408c-8b59-2009e20d3105"
      },
      "execution_count": null,
      "outputs": [
        {
          "output_type": "execute_result",
          "data": {
            "text/plain": [
              "((8,), (8,))"
            ]
          },
          "metadata": {},
          "execution_count": 3
        }
      ]
    },
    {
      "cell_type": "code",
      "source": [
        "input_shape = X[0].shape\n",
        "output_shape = y[0].shape\n",
        "input_shape, output_shape\n",
        "\n",
        "#so there is no shape for individual data"
      ],
      "metadata": {
        "colab": {
          "base_uri": "https://localhost:8080/"
        },
        "id": "zAnZteqJu1Qk",
        "outputId": "b3cf5ad8-5951-4e0d-976a-627033a0091c"
      },
      "execution_count": null,
      "outputs": [
        {
          "output_type": "execute_result",
          "data": {
            "text/plain": [
              "((), ())"
            ]
          },
          "metadata": {},
          "execution_count": 4
        }
      ]
    },
    {
      "cell_type": "code",
      "source": [
        "#let's convert these to tensors\n",
        "#Also change these into dtype float32\n",
        "X = tf.cast(tf.constant(X), dtype = tf.float32)\n",
        "y = tf.cast(tf.constant(y),dtype = tf.float32)\n",
        "\n",
        "X,y\n",
        "\n",
        "# (<tf.Tensor: shape=(8,), dtype=float64, numpy=array([-7., -4., -1.,  2.,  5.,  8., 11., 14.])>,\n",
        "#  <tf.Tensor: shape=(8,), dtype=float64, numpy=array([ 3.,  6.,  9., 12., 15., 18., 21., 24.])>)"
      ],
      "metadata": {
        "colab": {
          "base_uri": "https://localhost:8080/"
        },
        "id": "riMbxW5VvN5k",
        "outputId": "f1624cff-b4fa-4668-9555-43d4e35495ab"
      },
      "execution_count": null,
      "outputs": [
        {
          "output_type": "execute_result",
          "data": {
            "text/plain": [
              "(<tf.Tensor: shape=(8,), dtype=float32, numpy=array([-7., -4., -1.,  2.,  5.,  8., 11., 14.], dtype=float32)>,\n",
              " <tf.Tensor: shape=(8,), dtype=float32, numpy=array([ 3.,  6.,  9., 12., 15., 18., 21., 24.], dtype=float32)>)"
            ]
          },
          "metadata": {},
          "execution_count": 41
        }
      ]
    },
    {
      "cell_type": "code",
      "source": [
        "input_shape = X.shape\n",
        "output_shape = y.shape\n",
        "\n",
        "input_shape, output_shape"
      ],
      "metadata": {
        "colab": {
          "base_uri": "https://localhost:8080/"
        },
        "id": "6nXIuIeDvXyV",
        "outputId": "f3638ca6-8986-49ca-cf80-f1049ae5118a"
      },
      "execution_count": null,
      "outputs": [
        {
          "output_type": "execute_result",
          "data": {
            "text/plain": [
              "(TensorShape([8]), TensorShape([8]))"
            ]
          },
          "metadata": {},
          "execution_count": 6
        }
      ]
    },
    {
      "cell_type": "code",
      "source": [
        "input_shape = X[0].shape\n",
        "output_shape = y[0].shape\n",
        "\n",
        "input_shape, output_shape"
      ],
      "metadata": {
        "colab": {
          "base_uri": "https://localhost:8080/"
        },
        "id": "h8-ijvtwvqMM",
        "outputId": "a5568e14-c738-4f5b-8281-e42442799d4b"
      },
      "execution_count": null,
      "outputs": [
        {
          "output_type": "execute_result",
          "data": {
            "text/plain": [
              "(TensorShape([]), TensorShape([]))"
            ]
          },
          "metadata": {},
          "execution_count": 7
        }
      ]
    },
    {
      "cell_type": "markdown",
      "source": [
        "##steps in modelling with tensorflow\n",
        "\n",
        "1. creating a model - define the input and output layers, as well as hidden layers\n",
        "\n",
        "2. compiling a model - define a loss function and optimizer and evaluation metrics\n",
        "\n",
        "3. Fitting a model - letting a model try to find patters in data between X and y or features and labels\n",
        "\n",
        "\n"
      ],
      "metadata": {
        "id": "KFF4pz8ZwRpj"
      }
    },
    {
      "cell_type": "code",
      "source": [
        "#set random seed\n",
        "tf.random.set_seed(42)\n",
        "\n",
        "# Create a model using the Sequential API\n",
        "model = tf.keras.Sequential([\n",
        "    tf.keras.layers.Dense(1)\n",
        "])\n",
        "\n",
        "# compile the model\n",
        "model.compile(loss = tf.keras.losses.mae,\n",
        "              optimizer = tf.keras.optimizers.SGD(),\n",
        "              metrics = ['mae'])\n",
        "\n",
        "# fit the model\n",
        "model.fit(tf.expand_dims(X, axis=-1), y, epochs=5, verbose=2)"
      ],
      "metadata": {
        "id": "WWTll1q8wujK",
        "colab": {
          "base_uri": "https://localhost:8080/"
        },
        "outputId": "a4286769-ba81-4091-dedf-2b9b3bc69e0c"
      },
      "execution_count": null,
      "outputs": [
        {
          "output_type": "stream",
          "name": "stdout",
          "text": [
            "Epoch 1/5\n",
            "1/1 - 1s - loss: 11.3034 - mae: 11.3034 - 751ms/epoch - 751ms/step\n",
            "Epoch 2/5\n",
            "1/1 - 0s - loss: 11.1709 - mae: 11.1709 - 18ms/epoch - 18ms/step\n",
            "Epoch 3/5\n",
            "1/1 - 0s - loss: 11.0384 - mae: 11.0384 - 14ms/epoch - 14ms/step\n",
            "Epoch 4/5\n",
            "1/1 - 0s - loss: 10.9059 - mae: 10.9059 - 12ms/epoch - 12ms/step\n",
            "Epoch 5/5\n",
            "1/1 - 0s - loss: 10.7734 - mae: 10.7734 - 10ms/epoch - 10ms/step\n"
          ]
        },
        {
          "output_type": "execute_result",
          "data": {
            "text/plain": [
              "<keras.src.callbacks.History at 0x7d33345ea890>"
            ]
          },
          "metadata": {},
          "execution_count": 43
        }
      ]
    },
    {
      "cell_type": "markdown",
      "source": [
        "Epoch 1/5\n",
        "1/1 [==============================] - 0s 486ms/step - loss: 11.4319 - mae: 11.4319\n",
        "\n",
        "Epoch 2/5\n",
        "1/1 [==============================] - 0s 10ms/step - loss: 11.2994 - mae: 11.2994\n",
        "\n",
        "Epoch 3/5\n",
        "1/1 [==============================] - 0s 11ms/step - loss: 11.1669 - mae: 11.1669\n",
        "\n",
        "Epoch 4/5\n",
        "1/1 [==============================] - 0s 10ms/step - loss: 11.0344 - mae: 11.0344\n",
        "\n",
        "Epoch 5/5\n",
        "1/1 [==============================] - 0s 14ms/step - loss: 10.9019 - mae: 10.9019\n"
      ],
      "metadata": {
        "id": "kJgepoYi0s5U"
      }
    },
    {
      "cell_type": "code",
      "source": [
        "X,y"
      ],
      "metadata": {
        "colab": {
          "base_uri": "https://localhost:8080/"
        },
        "id": "lK0kiAgmVkEZ",
        "outputId": "beb67f09-c09b-435e-c222-9464f497ac3b"
      },
      "execution_count": null,
      "outputs": [
        {
          "output_type": "execute_result",
          "data": {
            "text/plain": [
              "(<tf.Tensor: shape=(8,), dtype=float32, numpy=array([-7., -4., -1.,  2.,  5.,  8., 11., 14.], dtype=float32)>,\n",
              " <tf.Tensor: shape=(8,), dtype=float32, numpy=array([ 3.,  6.,  9., 12., 15., 18., 21., 24.], dtype=float32)>)"
            ]
          },
          "metadata": {},
          "execution_count": 12
        }
      ]
    },
    {
      "cell_type": "code",
      "source": [
        "y_pred = model.predict([17.0])\n",
        "y_pred"
      ],
      "metadata": {
        "id": "7f0CS0D-q57H",
        "outputId": "1c10f0a5-8f4c-4662-ecff-94c2361c68db",
        "colab": {
          "base_uri": "https://localhost:8080/"
        }
      },
      "execution_count": null,
      "outputs": [
        {
          "output_type": "stream",
          "name": "stderr",
          "text": [
            "WARNING:tensorflow:6 out of the last 6 calls to <function Model.make_predict_function.<locals>.predict_function at 0x7af701abd6c0> triggered tf.function retracing. Tracing is expensive and the excessive number of tracings could be due to (1) creating @tf.function repeatedly in a loop, (2) passing tensors with different shapes, (3) passing Python objects instead of tensors. For (1), please define your @tf.function outside of the loop. For (2), @tf.function has reduce_retracing=True option that can avoid unnecessary retracing. For (3), please refer to https://www.tensorflow.org/guide/function#controlling_retracing and https://www.tensorflow.org/api_docs/python/tf/function for  more details.\n"
          ]
        },
        {
          "output_type": "stream",
          "name": "stdout",
          "text": [
            "1/1 [==============================] - 0s 77ms/step\n"
          ]
        },
        {
          "output_type": "execute_result",
          "data": {
            "text/plain": [
              "array([[-18.795279]], dtype=float32)"
            ]
          },
          "metadata": {},
          "execution_count": 20
        }
      ]
    },
    {
      "cell_type": "markdown",
      "source": [
        "1/1 [==============================] - 0s 104ms/step\n",
        "array([[13.069829]], dtype=float32)"
      ],
      "metadata": {
        "id": "jz8KOPTG035f"
      }
    },
    {
      "cell_type": "markdown",
      "source": [
        "## Improving our model\n",
        "\n",
        "1. add more layer, increase the number of hidden unit(all called nuerons) within each hidden layers, change the activation function of each layer.\n",
        "\n",
        "\n",
        "2. change the optimization function or learning rate of optimization function\n",
        "\n",
        "3. fit model for more epochs or more data"
      ],
      "metadata": {
        "id": "bNeJaI0aXLpv"
      }
    },
    {
      "cell_type": "code",
      "source": [
        "#set random seed\n",
        "tf.random.set_seed(42)\n",
        "\n",
        "# Create a model using the Sequential API\n",
        "model = tf.keras.Sequential([\n",
        "    tf.keras.layers.Dense(100,activation=\"relu\"),\n",
        "    # tf.keras.layers.Dense(10,activation=\"relu\"),\n",
        "    # tf.keras.layers.Dense(2,activation=\"relu\"),\n",
        "    tf.keras.layers.Dense(1)\n",
        "])\n",
        "\n",
        "# compile the model\n",
        "model.compile(loss = tf.keras.losses.mae,\n",
        "              optimizer = tf.keras.optimizers.Adam(learning_rate=0.01),\n",
        "              metrics = ['mae'])\n",
        "\n",
        "# fit the model\n",
        "model.fit(tf.expand_dims(X, axis=-1), y, epochs=100)"
      ],
      "metadata": {
        "colab": {
          "base_uri": "https://localhost:8080/"
        },
        "id": "hkmg3ZvSXP8n",
        "outputId": "5d97710a-890d-48bf-eaf3-0dbd9631fa02"
      },
      "execution_count": null,
      "outputs": [
        {
          "output_type": "stream",
          "name": "stdout",
          "text": [
            "Epoch 1/100\n",
            "1/1 [==============================] - 1s 600ms/step - loss: 13.8632 - mae: 13.8632\n",
            "Epoch 2/100\n",
            "1/1 [==============================] - 0s 11ms/step - loss: 12.9729 - mae: 12.9729\n",
            "Epoch 3/100\n",
            "1/1 [==============================] - 0s 11ms/step - loss: 12.1184 - mae: 12.1184\n",
            "Epoch 4/100\n",
            "1/1 [==============================] - 0s 10ms/step - loss: 11.4700 - mae: 11.4700\n",
            "Epoch 5/100\n",
            "1/1 [==============================] - 0s 11ms/step - loss: 10.8171 - mae: 10.8171\n",
            "Epoch 6/100\n",
            "1/1 [==============================] - 0s 12ms/step - loss: 10.1529 - mae: 10.1529\n",
            "Epoch 7/100\n",
            "1/1 [==============================] - 0s 9ms/step - loss: 9.4826 - mae: 9.4826\n",
            "Epoch 8/100\n",
            "1/1 [==============================] - 0s 9ms/step - loss: 8.8041 - mae: 8.8041\n",
            "Epoch 9/100\n",
            "1/1 [==============================] - 0s 9ms/step - loss: 8.1107 - mae: 8.1107\n",
            "Epoch 10/100\n",
            "1/1 [==============================] - 0s 10ms/step - loss: 7.4018 - mae: 7.4018\n",
            "Epoch 11/100\n",
            "1/1 [==============================] - 0s 9ms/step - loss: 6.6698 - mae: 6.6698\n",
            "Epoch 12/100\n",
            "1/1 [==============================] - 0s 9ms/step - loss: 5.9116 - mae: 5.9116\n",
            "Epoch 13/100\n",
            "1/1 [==============================] - 0s 9ms/step - loss: 5.1239 - mae: 5.1239\n",
            "Epoch 14/100\n",
            "1/1 [==============================] - 0s 9ms/step - loss: 4.3060 - mae: 4.3060\n",
            "Epoch 15/100\n",
            "1/1 [==============================] - 0s 10ms/step - loss: 3.7866 - mae: 3.7866\n",
            "Epoch 16/100\n",
            "1/1 [==============================] - 0s 10ms/step - loss: 3.7279 - mae: 3.7279\n",
            "Epoch 17/100\n",
            "1/1 [==============================] - 0s 9ms/step - loss: 3.8637 - mae: 3.8637\n",
            "Epoch 18/100\n",
            "1/1 [==============================] - 0s 9ms/step - loss: 4.0884 - mae: 4.0884\n",
            "Epoch 19/100\n",
            "1/1 [==============================] - 0s 9ms/step - loss: 4.3484 - mae: 4.3484\n",
            "Epoch 20/100\n",
            "1/1 [==============================] - 0s 10ms/step - loss: 4.5062 - mae: 4.5062\n",
            "Epoch 21/100\n",
            "1/1 [==============================] - 0s 10ms/step - loss: 4.5771 - mae: 4.5771\n",
            "Epoch 22/100\n",
            "1/1 [==============================] - 0s 9ms/step - loss: 4.5684 - mae: 4.5684\n",
            "Epoch 23/100\n",
            "1/1 [==============================] - 0s 16ms/step - loss: 4.5390 - mae: 4.5390\n",
            "Epoch 24/100\n",
            "1/1 [==============================] - 0s 12ms/step - loss: 4.3995 - mae: 4.3995\n",
            "Epoch 25/100\n",
            "1/1 [==============================] - 0s 11ms/step - loss: 4.1930 - mae: 4.1930\n",
            "Epoch 26/100\n",
            "1/1 [==============================] - 0s 9ms/step - loss: 3.9851 - mae: 3.9851\n",
            "Epoch 27/100\n",
            "1/1 [==============================] - 0s 9ms/step - loss: 3.7431 - mae: 3.7431\n",
            "Epoch 28/100\n",
            "1/1 [==============================] - 0s 9ms/step - loss: 3.5726 - mae: 3.5726\n",
            "Epoch 29/100\n",
            "1/1 [==============================] - 0s 9ms/step - loss: 3.4547 - mae: 3.4547\n",
            "Epoch 30/100\n",
            "1/1 [==============================] - 0s 9ms/step - loss: 3.3334 - mae: 3.3334\n",
            "Epoch 31/100\n",
            "1/1 [==============================] - 0s 9ms/step - loss: 3.2105 - mae: 3.2105\n",
            "Epoch 32/100\n",
            "1/1 [==============================] - 0s 9ms/step - loss: 3.2095 - mae: 3.2095\n",
            "Epoch 33/100\n",
            "1/1 [==============================] - 0s 10ms/step - loss: 3.2221 - mae: 3.2221\n",
            "Epoch 34/100\n",
            "1/1 [==============================] - 0s 9ms/step - loss: 3.1953 - mae: 3.1953\n",
            "Epoch 35/100\n",
            "1/1 [==============================] - 0s 9ms/step - loss: 3.1362 - mae: 3.1362\n",
            "Epoch 36/100\n",
            "1/1 [==============================] - 0s 10ms/step - loss: 3.0446 - mae: 3.0446\n",
            "Epoch 37/100\n",
            "1/1 [==============================] - 0s 9ms/step - loss: 2.9357 - mae: 2.9357\n",
            "Epoch 38/100\n",
            "1/1 [==============================] - 0s 10ms/step - loss: 2.8118 - mae: 2.8118\n",
            "Epoch 39/100\n",
            "1/1 [==============================] - 0s 9ms/step - loss: 2.7144 - mae: 2.7144\n",
            "Epoch 40/100\n",
            "1/1 [==============================] - 0s 9ms/step - loss: 2.6893 - mae: 2.6893\n",
            "Epoch 41/100\n",
            "1/1 [==============================] - 0s 11ms/step - loss: 2.6513 - mae: 2.6513\n",
            "Epoch 42/100\n",
            "1/1 [==============================] - 0s 24ms/step - loss: 2.5936 - mae: 2.5936\n",
            "Epoch 43/100\n",
            "1/1 [==============================] - 0s 12ms/step - loss: 2.5169 - mae: 2.5169\n",
            "Epoch 44/100\n",
            "1/1 [==============================] - 0s 12ms/step - loss: 2.4243 - mae: 2.4243\n",
            "Epoch 45/100\n",
            "1/1 [==============================] - 0s 14ms/step - loss: 2.3138 - mae: 2.3138\n",
            "Epoch 46/100\n",
            "1/1 [==============================] - 0s 15ms/step - loss: 2.1838 - mae: 2.1838\n",
            "Epoch 47/100\n",
            "1/1 [==============================] - 0s 18ms/step - loss: 2.0415 - mae: 2.0415\n",
            "Epoch 48/100\n",
            "1/1 [==============================] - 0s 34ms/step - loss: 1.9259 - mae: 1.9259\n",
            "Epoch 49/100\n",
            "1/1 [==============================] - 0s 18ms/step - loss: 1.8155 - mae: 1.8155\n",
            "Epoch 50/100\n",
            "1/1 [==============================] - 0s 12ms/step - loss: 1.6739 - mae: 1.6739\n",
            "Epoch 51/100\n",
            "1/1 [==============================] - 0s 11ms/step - loss: 1.5565 - mae: 1.5565\n",
            "Epoch 52/100\n",
            "1/1 [==============================] - 0s 10ms/step - loss: 1.4140 - mae: 1.4140\n",
            "Epoch 53/100\n",
            "1/1 [==============================] - 0s 17ms/step - loss: 1.2514 - mae: 1.2514\n",
            "Epoch 54/100\n",
            "1/1 [==============================] - 0s 17ms/step - loss: 1.1126 - mae: 1.1126\n",
            "Epoch 55/100\n",
            "1/1 [==============================] - 0s 13ms/step - loss: 0.9315 - mae: 0.9315\n",
            "Epoch 56/100\n",
            "1/1 [==============================] - 0s 15ms/step - loss: 0.7529 - mae: 0.7529\n",
            "Epoch 57/100\n",
            "1/1 [==============================] - 0s 18ms/step - loss: 0.5787 - mae: 0.5787\n",
            "Epoch 58/100\n",
            "1/1 [==============================] - 0s 11ms/step - loss: 0.3972 - mae: 0.3972\n",
            "Epoch 59/100\n",
            "1/1 [==============================] - 0s 11ms/step - loss: 0.3374 - mae: 0.3374\n",
            "Epoch 60/100\n",
            "1/1 [==============================] - 0s 11ms/step - loss: 0.1880 - mae: 0.1880\n",
            "Epoch 61/100\n",
            "1/1 [==============================] - 0s 24ms/step - loss: 0.5933 - mae: 0.5933\n",
            "Epoch 62/100\n",
            "1/1 [==============================] - 0s 17ms/step - loss: 0.4471 - mae: 0.4471\n",
            "Epoch 63/100\n",
            "1/1 [==============================] - 0s 24ms/step - loss: 0.6537 - mae: 0.6537\n",
            "Epoch 64/100\n",
            "1/1 [==============================] - 0s 12ms/step - loss: 0.7304 - mae: 0.7304\n",
            "Epoch 65/100\n",
            "1/1 [==============================] - 0s 14ms/step - loss: 0.5130 - mae: 0.5130\n",
            "Epoch 66/100\n",
            "1/1 [==============================] - 0s 16ms/step - loss: 0.5585 - mae: 0.5585\n",
            "Epoch 67/100\n",
            "1/1 [==============================] - 0s 17ms/step - loss: 0.5528 - mae: 0.5528\n",
            "Epoch 68/100\n",
            "1/1 [==============================] - 0s 17ms/step - loss: 0.4804 - mae: 0.4804\n",
            "Epoch 69/100\n",
            "1/1 [==============================] - 0s 20ms/step - loss: 0.5362 - mae: 0.5362\n",
            "Epoch 70/100\n",
            "1/1 [==============================] - 0s 16ms/step - loss: 0.4504 - mae: 0.4504\n",
            "Epoch 71/100\n",
            "1/1 [==============================] - 0s 12ms/step - loss: 0.4031 - mae: 0.4031\n",
            "Epoch 72/100\n",
            "1/1 [==============================] - 0s 12ms/step - loss: 0.3957 - mae: 0.3957\n",
            "Epoch 73/100\n",
            "1/1 [==============================] - 0s 14ms/step - loss: 0.2748 - mae: 0.2748\n",
            "Epoch 74/100\n",
            "1/1 [==============================] - 0s 14ms/step - loss: 0.4819 - mae: 0.4819\n",
            "Epoch 75/100\n",
            "1/1 [==============================] - 0s 12ms/step - loss: 0.4666 - mae: 0.4666\n",
            "Epoch 76/100\n",
            "1/1 [==============================] - 0s 13ms/step - loss: 0.2333 - mae: 0.2333\n",
            "Epoch 77/100\n",
            "1/1 [==============================] - 0s 12ms/step - loss: 0.3195 - mae: 0.3195\n",
            "Epoch 78/100\n",
            "1/1 [==============================] - 0s 14ms/step - loss: 0.3445 - mae: 0.3445\n",
            "Epoch 79/100\n",
            "1/1 [==============================] - 0s 13ms/step - loss: 0.2663 - mae: 0.2663\n",
            "Epoch 80/100\n",
            "1/1 [==============================] - 0s 13ms/step - loss: 0.3026 - mae: 0.3026\n",
            "Epoch 81/100\n",
            "1/1 [==============================] - 0s 15ms/step - loss: 0.3265 - mae: 0.3265\n",
            "Epoch 82/100\n",
            "1/1 [==============================] - 0s 14ms/step - loss: 0.3005 - mae: 0.3005\n",
            "Epoch 83/100\n",
            "1/1 [==============================] - 0s 14ms/step - loss: 0.2773 - mae: 0.2773\n",
            "Epoch 84/100\n",
            "1/1 [==============================] - 0s 15ms/step - loss: 0.2570 - mae: 0.2570\n",
            "Epoch 85/100\n",
            "1/1 [==============================] - 0s 11ms/step - loss: 0.2142 - mae: 0.2142\n",
            "Epoch 86/100\n",
            "1/1 [==============================] - 0s 11ms/step - loss: 0.1741 - mae: 0.1741\n",
            "Epoch 87/100\n",
            "1/1 [==============================] - 0s 33ms/step - loss: 0.1850 - mae: 0.1850\n",
            "Epoch 88/100\n",
            "1/1 [==============================] - 0s 18ms/step - loss: 0.1384 - mae: 0.1384\n",
            "Epoch 89/100\n",
            "1/1 [==============================] - 0s 13ms/step - loss: 0.1462 - mae: 0.1462\n",
            "Epoch 90/100\n",
            "1/1 [==============================] - 0s 12ms/step - loss: 0.2596 - mae: 0.2596\n",
            "Epoch 91/100\n",
            "1/1 [==============================] - 0s 11ms/step - loss: 0.1732 - mae: 0.1732\n",
            "Epoch 92/100\n",
            "1/1 [==============================] - 0s 21ms/step - loss: 0.2072 - mae: 0.2072\n",
            "Epoch 93/100\n",
            "1/1 [==============================] - 0s 15ms/step - loss: 0.1372 - mae: 0.1372\n",
            "Epoch 94/100\n",
            "1/1 [==============================] - 0s 14ms/step - loss: 0.2570 - mae: 0.2570\n",
            "Epoch 95/100\n",
            "1/1 [==============================] - 0s 15ms/step - loss: 0.2082 - mae: 0.2082\n",
            "Epoch 96/100\n",
            "1/1 [==============================] - 0s 17ms/step - loss: 0.2889 - mae: 0.2889\n",
            "Epoch 97/100\n",
            "1/1 [==============================] - 0s 27ms/step - loss: 0.2577 - mae: 0.2577\n",
            "Epoch 98/100\n",
            "1/1 [==============================] - 0s 10ms/step - loss: 0.0994 - mae: 0.0994\n",
            "Epoch 99/100\n",
            "1/1 [==============================] - 0s 10ms/step - loss: 0.1130 - mae: 0.1130\n",
            "Epoch 100/100\n",
            "1/1 [==============================] - 0s 9ms/step - loss: 0.2194 - mae: 0.2194\n"
          ]
        },
        {
          "output_type": "execute_result",
          "data": {
            "text/plain": [
              "<keras.src.callbacks.History at 0x7cd0c4dc30a0>"
            ]
          },
          "metadata": {},
          "execution_count": 71
        }
      ]
    },
    {
      "cell_type": "markdown",
      "source": [
        "Epoch 100/100\n",
        "1/1 [==============================] - 0s 8ms/step - loss: 6.8363 - mae: 6.8363\n",
        "\n",
        "1/1 [==============================] - 0s 57ms/step\n",
        "array([[29.670727]], dtype=float32)\n"
      ],
      "metadata": {
        "id": "DAP56BDh3th0"
      }
    },
    {
      "cell_type": "code",
      "source": [
        "y_pred = model.predict([19.0])\n",
        "y_pred"
      ],
      "metadata": {
        "colab": {
          "base_uri": "https://localhost:8080/"
        },
        "id": "kt2MgM0t0Slg",
        "outputId": "499f0fd9-daa5-4e2e-e538-9fa6895d465d"
      },
      "execution_count": null,
      "outputs": [
        {
          "output_type": "stream",
          "name": "stdout",
          "text": [
            "1/1 [==============================] - 0s 36ms/step\n"
          ]
        },
        {
          "output_type": "execute_result",
          "data": {
            "text/plain": [
              "array([[29.801214]], dtype=float32)"
            ]
          },
          "metadata": {},
          "execution_count": 73
        }
      ]
    },
    {
      "cell_type": "markdown",
      "source": [
        "##Evaluatin the model\n",
        "\n",
        "visualize"
      ],
      "metadata": {
        "id": "6cTNbQ58WXE4"
      }
    },
    {
      "cell_type": "markdown",
      "source": [
        "## Lets do the same with larger dataset"
      ],
      "metadata": {
        "id": "4JhJHgHbWban"
      }
    },
    {
      "cell_type": "code",
      "source": [
        "X1 = tf.range(-100,100,4)\n",
        "X1"
      ],
      "metadata": {
        "colab": {
          "base_uri": "https://localhost:8080/"
        },
        "id": "YC7cC-hmXDxE",
        "outputId": "c72c867d-dfc3-4bc2-d5f0-fac58b8aaeb0"
      },
      "execution_count": null,
      "outputs": [
        {
          "output_type": "execute_result",
          "data": {
            "text/plain": [
              "<tf.Tensor: shape=(50,), dtype=int32, numpy=\n",
              "array([-100,  -96,  -92,  -88,  -84,  -80,  -76,  -72,  -68,  -64,  -60,\n",
              "        -56,  -52,  -48,  -44,  -40,  -36,  -32,  -28,  -24,  -20,  -16,\n",
              "        -12,   -8,   -4,    0,    4,    8,   12,   16,   20,   24,   28,\n",
              "         32,   36,   40,   44,   48,   52,   56,   60,   64,   68,   72,\n",
              "         76,   80,   84,   88,   92,   96], dtype=int32)>"
            ]
          },
          "metadata": {},
          "execution_count": 7
        }
      ]
    },
    {
      "cell_type": "code",
      "source": [
        "y1 = X1+10\n",
        "y1"
      ],
      "metadata": {
        "colab": {
          "base_uri": "https://localhost:8080/"
        },
        "id": "4pgJYAR5lDjT",
        "outputId": "024361a9-cbfa-4e5d-aa11-9a22131f4492"
      },
      "execution_count": null,
      "outputs": [
        {
          "output_type": "execute_result",
          "data": {
            "text/plain": [
              "<tf.Tensor: shape=(50,), dtype=int32, numpy=\n",
              "array([-90, -86, -82, -78, -74, -70, -66, -62, -58, -54, -50, -46, -42,\n",
              "       -38, -34, -30, -26, -22, -18, -14, -10,  -6,  -2,   2,   6,  10,\n",
              "        14,  18,  22,  26,  30,  34,  38,  42,  46,  50,  54,  58,  62,\n",
              "        66,  70,  74,  78,  82,  86,  90,  94,  98, 102, 106], dtype=int32)>"
            ]
          },
          "metadata": {},
          "execution_count": 8
        }
      ]
    },
    {
      "cell_type": "code",
      "source": [
        "import matplotlib.pyplot as plt\n",
        "plt.scatter(X1,y1)"
      ],
      "metadata": {
        "colab": {
          "base_uri": "https://localhost:8080/",
          "height": 447
        },
        "id": "rTGpzwkxlWaq",
        "outputId": "e168a0b7-98bb-48ab-fd90-1883abbaa423"
      },
      "execution_count": null,
      "outputs": [
        {
          "output_type": "execute_result",
          "data": {
            "text/plain": [
              "<matplotlib.collections.PathCollection at 0x7d3348373e80>"
            ]
          },
          "metadata": {},
          "execution_count": 4
        },
        {
          "output_type": "display_data",
          "data": {
            "text/plain": [
              "<Figure size 640x480 with 1 Axes>"
            ],
            "image/png": "[encoded data removed]"
          },
          "metadata": {}
        }
      ]
    },
    {
      "cell_type": "markdown",
      "source": [
        "### The three sets\n",
        "\n",
        "1. Training set 70 to 80 percent of total data\n",
        "2. Validation set 10 to 15 percent of total data for tuning model\n",
        "3. Test set\n",
        "\n",
        "\n",
        "\n",
        "`analogy - Course material -> practice exam -> final exam`"
      ],
      "metadata": {
        "id": "ZlPGTpiE3SqL"
      }
    },
    {
      "cell_type": "code",
      "source": [
        "len(X1)"
      ],
      "metadata": {
        "colab": {
          "base_uri": "https://localhost:8080/"
        },
        "id": "qM0D4xq84K06",
        "outputId": "83890b8c-d8b0-4567-db7b-5d2b4be860cf"
      },
      "execution_count": null,
      "outputs": [
        {
          "output_type": "execute_result",
          "data": {
            "text/plain": [
              "50"
            ]
          },
          "metadata": {},
          "execution_count": 6
        }
      ]
    },
    {
      "cell_type": "code",
      "source": [
        "#split the data\n",
        "X1_train = X1[:40] #first 40 data or 80%\n",
        "y1_train = y1[:40]\n",
        "\n",
        "X1_test = X1[40:] #last 10 data\n",
        "y1_test = y1[40:]\n",
        "\n",
        "len(X1_train), len(X1_test), len(y1_train),len(y1_test)\n",
        "\n"
      ],
      "metadata": {
        "colab": {
          "base_uri": "https://localhost:8080/"
        },
        "id": "fanKGiNJ4stZ",
        "outputId": "a600d7c4-1d4c-4da4-cc1a-379b05e4f70d"
      },
      "execution_count": null,
      "outputs": [
        {
          "output_type": "execute_result",
          "data": {
            "text/plain": [
              "(40, 10, 40, 10)"
            ]
          },
          "metadata": {},
          "execution_count": 6
        }
      ]
    },
    {
      "cell_type": "code",
      "source": [
        "### visualizing the test and training data\n",
        "\n",
        "plt.figure(figsize=(10,7))\n",
        "\n",
        "plt.scatter(X1_train,y1_train, c=\"b\",label=\"training data\")\n",
        "plt.scatter(X1_test,y1_test, c=\"g\",label=\"testing data\")\n",
        "plt.legend()"
      ],
      "metadata": {
        "colab": {
          "base_uri": "https://localhost:8080/",
          "height": 561
        },
        "id": "95Afy7Bz5kDo",
        "outputId": "c60f0a40-dfc8-4b51-9e4a-7d94f67b9522"
      },
      "execution_count": null,
      "outputs": [
        {
          "output_type": "execute_result",
          "data": {
            "text/plain": [
              "<matplotlib.legend.Legend at 0x79460dd561a0>"
            ]
          },
          "metadata": {},
          "execution_count": 8
        },
        {
          "output_type": "display_data",
          "data": {
            "text/plain": [
              "<Figure size 1000x700 with 1 Axes>"
            ],
            "image/png": "[encoded data removed]"
          },
          "metadata": {}
        }
      ]
    },
    {
      "cell_type": "markdown",
      "source": [
        "* Total params - total number of\n",
        "parameters in the model\n",
        "\n",
        "---\n",
        "\n",
        "\n",
        "\n",
        "* Trainable params - These are the parameters (patterns) the model can update as it trains\n",
        "\n",
        "---\n",
        "\n",
        "\n",
        "\n",
        "* Non-trainable params - these parameters are not updated during training(this is typical when you bring in already learned patters or parameters from other models during **transfer learning**)"
      ],
      "metadata": {
        "id": "KXb220uf97sl"
      }
    },
    {
      "cell_type": "code",
      "source": [
        "#create model\n",
        "tf.random.set_seed(42)\n",
        "\n",
        "model = tf.keras.Sequential([\n",
        "    tf.keras.layers.Dense(1,name=\"input_layer\")\n",
        "],name=\"model_X\")\n",
        "\n",
        "#compile model\n",
        "\n",
        "model.compile(loss=tf.keras.losses.mae,\n",
        "              optimizer = tf.keras.optimizers.SGD(),\n",
        "              metrics=['mae'])\n",
        "\n",
        "#fit the model\n",
        "model.fit(tf.expand_dims(X1_train, axis=-1), y1_train, epochs=10, verbose=2)"
      ],
      "metadata": {
        "id": "McAvd1jr6x81",
        "colab": {
          "base_uri": "https://localhost:8080/"
        },
        "outputId": "475f4700-1214-432a-bb47-f060b7c707b9"
      },
      "execution_count": null,
      "outputs": [
        {
          "output_type": "stream",
          "name": "stdout",
          "text": [
            "Epoch 1/10\n",
            "2/2 - 0s - loss: 33.6359 - mae: 33.6359 - 351ms/epoch - 175ms/step\n",
            "Epoch 2/10\n",
            "2/2 - 0s - loss: 8.9813 - mae: 8.9813 - 10ms/epoch - 5ms/step\n",
            "Epoch 3/10\n",
            "2/2 - 0s - loss: 12.7954 - mae: 12.7954 - 9ms/epoch - 5ms/step\n",
            "Epoch 4/10\n",
            "2/2 - 0s - loss: 8.3533 - mae: 8.3533 - 9ms/epoch - 4ms/step\n",
            "Epoch 5/10\n",
            "2/2 - 0s - loss: 11.8471 - mae: 11.8471 - 9ms/epoch - 5ms/step\n",
            "Epoch 6/10\n",
            "2/2 - 0s - loss: 10.9699 - mae: 10.9699 - 9ms/epoch - 5ms/step\n",
            "Epoch 7/10\n",
            "2/2 - 0s - loss: 8.4681 - mae: 8.4681 - 9ms/epoch - 5ms/step\n",
            "Epoch 8/10\n",
            "2/2 - 0s - loss: 8.8762 - mae: 8.8762 - 9ms/epoch - 5ms/step\n",
            "Epoch 9/10\n",
            "2/2 - 0s - loss: 17.1198 - mae: 17.1198 - 11ms/epoch - 5ms/step\n",
            "Epoch 10/10\n",
            "2/2 - 0s - loss: 12.4701 - mae: 12.4701 - 10ms/epoch - 5ms/step\n"
          ]
        },
        {
          "output_type": "execute_result",
          "data": {
            "text/plain": [
              "<keras.src.callbacks.History at 0x7d333435b4c0>"
            ]
          },
          "metadata": {},
          "execution_count": 47
        }
      ]
    },
    {
      "cell_type": "code",
      "source": [
        "#visualizing the model before running it\n",
        "\n",
        "model.summary()"
      ],
      "metadata": {
        "colab": {
          "base_uri": "https://localhost:8080/"
        },
        "id": "fLKVb6ZY7xRq",
        "outputId": "d889b04e-c2da-4f79-b65d-1bd8322051a1"
      },
      "execution_count": null,
      "outputs": [
        {
          "output_type": "stream",
          "name": "stdout",
          "text": [
            "Model: \"model_X\"\n",
            "_________________________________________________________________\n",
            " Layer (type)                Output Shape              Param #   \n",
            "=================================================================\n",
            " input_layer (Dense)         (None, 1)                 2         \n",
            "                                                                 \n",
            "=================================================================\n",
            "Total params: 2 (8.00 Byte)\n",
            "Trainable params: 2 (8.00 Byte)\n",
            "Non-trainable params: 0 (0.00 Byte)\n",
            "_________________________________________________________________\n"
          ]
        }
      ]
    },
    {
      "cell_type": "code",
      "source": [
        "from tensorflow.keras.utils import plot_model\n",
        "plot_model(model=model,show_shapes=True,)"
      ],
      "metadata": {
        "colab": {
          "base_uri": "https://localhost:8080/",
          "height": 201
        },
        "id": "lSoiC4Q71FPf",
        "outputId": "0acb1df9-1e6d-46a2-f74f-a3b0dd551e01"
      },
      "execution_count": null,
      "outputs": [
        {
          "output_type": "execute_result",
          "data": {
            "image/png": "[encoded data removed]",
            "text/plain": [
              "<IPython.core.display.Image object>"
            ]
          },
          "metadata": {},
          "execution_count": 49
        }
      ]
    },
    {
      "cell_type": "code",
      "source": [
        "y1_pred = model.predict(X1_test)\n",
        "y1_pred"
      ],
      "metadata": {
        "colab": {
          "base_uri": "https://localhost:8080/"
        },
        "id": "7yNiPh_51YOl",
        "outputId": "89d6b12b-5a42-4d00-82b5-8f248abe7518"
      },
      "execution_count": null,
      "outputs": [
        {
          "output_type": "stream",
          "name": "stderr",
          "text": [
            "WARNING:tensorflow:5 out of the last 6 calls to <function Model.make_predict_function.<locals>.predict_function at 0x7d333407b400> triggered tf.function retracing. Tracing is expensive and the excessive number of tracings could be due to (1) creating @tf.function repeatedly in a loop, (2) passing tensors with different shapes, (3) passing Python objects instead of tensors. For (1), please define your @tf.function outside of the loop. For (2), @tf.function has reduce_retracing=True option that can avoid unnecessary retracing. For (3), please refer to https://www.tensorflow.org/guide/function#controlling_retracing and https://www.tensorflow.org/api_docs/python/tf/function for  more details.\n"
          ]
        },
        {
          "output_type": "stream",
          "name": "stdout",
          "text": [
            "1/1 [==============================] - 0s 57ms/step\n"
          ]
        },
        {
          "output_type": "execute_result",
          "data": {
            "text/plain": [
              "array([[ 65.04774 ],\n",
              "       [ 69.375755],\n",
              "       [ 73.70377 ],\n",
              "       [ 78.031784],\n",
              "       [ 82.3598  ],\n",
              "       [ 86.68782 ],\n",
              "       [ 91.01583 ],\n",
              "       [ 95.34385 ],\n",
              "       [ 99.67187 ],\n",
              "       [103.99988 ]], dtype=float32)"
            ]
          },
          "metadata": {},
          "execution_count": 50
        }
      ]
    },
    {
      "cell_type": "code",
      "source": [
        "y1_test"
      ],
      "metadata": {
        "colab": {
          "base_uri": "https://localhost:8080/"
        },
        "id": "4CvCS0DA1j0y",
        "outputId": "1bb432d6-0363-4f18-b63e-18457829cbab"
      },
      "execution_count": null,
      "outputs": [
        {
          "output_type": "execute_result",
          "data": {
            "text/plain": [
              "<tf.Tensor: shape=(10,), dtype=int32, numpy=array([ 70,  74,  78,  82,  86,  90,  94,  98, 102, 106], dtype=int32)>"
            ]
          },
          "metadata": {},
          "execution_count": 51
        }
      ]
    },
    {
      "cell_type": "code",
      "source": [
        "def plot_predictions(train_data = X1_train,\n",
        "                     train_labels = y1_train,\n",
        "                     test_data = X1_test,\n",
        "                     test_labels = y1_test,\n",
        "                     predictions = y1_pred):\n",
        "  plt.figure(figsize=(10,7))\n",
        "  plt.scatter(train_data,train_labels,c=\"b\",label=\"Training data\")\n",
        "  plt.scatter(test_data,test_labels,c=\"g\",label=\"Testing data\")\n",
        "  plt.scatter(test_data,predictions,c=\"r\",label=\"Predictions\")\n",
        "  plt.legend()\n",
        "\n",
        "\n",
        "plot_predictions()"
      ],
      "metadata": {
        "colab": {
          "base_uri": "https://localhost:8080/",
          "height": 544
        },
        "id": "vR8FWt8w2BHN",
        "outputId": "2e11bdb3-a9cf-4ab0-d714-416ea4a47f71"
      },
      "execution_count": null,
      "outputs": [
        {
          "output_type": "display_data",
          "data": {
            "text/plain": [
              "<Figure size 1000x700 with 1 Axes>"
            ],
            "image/png": "[encoded data removed]"
          },
          "metadata": {}
        }
      ]
    },
    {
      "cell_type": "markdown",
      "source": [
        "### Evaluating model's predictions with regression evaluation metrics"
      ],
      "metadata": {
        "id": "_hcviJlv3wqx"
      }
    },
    {
      "cell_type": "code",
      "source": [
        "model.evaluate(X1_test,y1_test)"
      ],
      "metadata": {
        "colab": {
          "base_uri": "https://localhost:8080/"
        },
        "id": "rXY7wiTU37Gg",
        "outputId": "cb3b07d1-3b8f-4a40-cf4c-af8fd8bff0f7"
      },
      "execution_count": null,
      "outputs": [
        {
          "output_type": "stream",
          "name": "stdout",
          "text": [
            "1/1 [==============================] - 0s 115ms/step - loss: 3.4762 - mae: 3.4762\n"
          ]
        },
        {
          "output_type": "execute_result",
          "data": {
            "text/plain": [
              "[3.4761900901794434, 3.4761900901794434]"
            ]
          },
          "metadata": {},
          "execution_count": 53
        }
      ]
    },
    {
      "cell_type": "code",
      "source": [
        "# Function to use MAE and MSE\n",
        "\n",
        "def mae(y_true, y_pred):\n",
        "  return tf.metrics.mean_absolute_error(y_true = y_true,\n",
        "                                        y_pred = y_pred)\n",
        "\n",
        "def mse(y_true, y_pred):\n",
        "  return tf.metrics.mean_squared_error(y_true = y_true,\n",
        "                                       y_pred = y_pred)"
      ],
      "metadata": {
        "id": "qkKq5s_-H-gc"
      },
      "execution_count": null,
      "outputs": []
    },
    {
      "cell_type": "code",
      "source": [
        "#create the model again\n",
        "\n",
        "tf.random.set_seed(42)\n",
        "\n",
        "model_2 = tf.keras.Sequential([\n",
        "    tf.keras.layers.Dense(10,activation=\"relu\"),\n",
        "\n",
        "    tf.keras.layers.Dense(1 )\n",
        "])\n",
        "\n",
        "model_2.compile(\n",
        "    loss = tf.keras.losses.mae,\n",
        "    optimizer = tf.keras.optimizers.SGD(),\n",
        "    metrics = [\"mae\"]\n",
        ")\n",
        "\n",
        "model_2.fit(tf.expand_dims(X1_train, axis=-1), y1_train, epochs=100, verbose=1)"
      ],
      "metadata": {
        "colab": {
          "base_uri": "https://localhost:8080/"
        },
        "id": "8oQmnriZQaXJ",
        "outputId": "93b8f017-03db-46f3-f5c7-9260299e90cd"
      },
      "execution_count": null,
      "outputs": [
        {
          "output_type": "stream",
          "name": "stdout",
          "text": [
            "Epoch 1/100\n",
            "2/2 [==============================] - 1s 12ms/step - loss: 32.6046 - mae: 32.6046\n",
            "Epoch 2/100\n",
            "2/2 [==============================] - 0s 7ms/step - loss: 20.0367 - mae: 20.0367\n",
            "Epoch 3/100\n",
            "2/2 [==============================] - 0s 6ms/step - loss: 15.3084 - mae: 15.3084\n",
            "Epoch 4/100\n",
            "2/2 [==============================] - 0s 7ms/step - loss: 6.6554 - mae: 6.6554\n",
            "Epoch 5/100\n",
            "2/2 [==============================] - 0s 7ms/step - loss: 9.6843 - mae: 9.6843\n",
            "Epoch 6/100\n",
            "2/2 [==============================] - 0s 8ms/step - loss: 6.3140 - mae: 6.3140\n",
            "Epoch 7/100\n",
            "2/2 [==============================] - 0s 8ms/step - loss: 10.2915 - mae: 10.2915\n",
            "Epoch 8/100\n",
            "2/2 [==============================] - 0s 7ms/step - loss: 12.8882 - mae: 12.8882\n",
            "Epoch 9/100\n",
            "2/2 [==============================] - 0s 6ms/step - loss: 25.9032 - mae: 25.9032\n",
            "Epoch 10/100\n",
            "2/2 [==============================] - 0s 7ms/step - loss: 15.1379 - mae: 15.1379\n",
            "Epoch 11/100\n",
            "2/2 [==============================] - 0s 6ms/step - loss: 10.2455 - mae: 10.2455\n",
            "Epoch 12/100\n",
            "2/2 [==============================] - 0s 7ms/step - loss: 10.5095 - mae: 10.5095\n",
            "Epoch 13/100\n",
            "2/2 [==============================] - 0s 8ms/step - loss: 10.3562 - mae: 10.3562\n",
            "Epoch 14/100\n",
            "2/2 [==============================] - 0s 7ms/step - loss: 12.0890 - mae: 12.0890\n",
            "Epoch 15/100\n",
            "2/2 [==============================] - 0s 7ms/step - loss: 7.6819 - mae: 7.6819\n",
            "Epoch 16/100\n",
            "2/2 [==============================] - 0s 7ms/step - loss: 6.8459 - mae: 6.8459\n",
            "Epoch 17/100\n",
            "2/2 [==============================] - 0s 8ms/step - loss: 14.9242 - mae: 14.9242\n",
            "Epoch 18/100\n",
            "2/2 [==============================] - 0s 8ms/step - loss: 10.3238 - mae: 10.3238\n",
            "Epoch 19/100\n",
            "2/2 [==============================] - 0s 7ms/step - loss: 7.9652 - mae: 7.9652\n",
            "Epoch 20/100\n",
            "2/2 [==============================] - 0s 7ms/step - loss: 6.7162 - mae: 6.7162\n",
            "Epoch 21/100\n",
            "2/2 [==============================] - 0s 6ms/step - loss: 11.0361 - mae: 11.0361\n",
            "Epoch 22/100\n",
            "2/2 [==============================] - 0s 7ms/step - loss: 14.4211 - mae: 14.4211\n",
            "Epoch 23/100\n",
            "2/2 [==============================] - 0s 7ms/step - loss: 9.1464 - mae: 9.1464\n",
            "Epoch 24/100\n",
            "2/2 [==============================] - 0s 8ms/step - loss: 12.2146 - mae: 12.2146\n",
            "Epoch 25/100\n",
            "2/2 [==============================] - 0s 9ms/step - loss: 15.6955 - mae: 15.6955\n",
            "Epoch 26/100\n",
            "2/2 [==============================] - 0s 7ms/step - loss: 19.4420 - mae: 19.4420\n",
            "Epoch 27/100\n",
            "2/2 [==============================] - 0s 6ms/step - loss: 14.1304 - mae: 14.1304\n",
            "Epoch 28/100\n",
            "2/2 [==============================] - 0s 13ms/step - loss: 14.1691 - mae: 14.1691\n",
            "Epoch 29/100\n",
            "2/2 [==============================] - 0s 7ms/step - loss: 5.1659 - mae: 5.1659\n",
            "Epoch 30/100\n",
            "2/2 [==============================] - 0s 7ms/step - loss: 22.7543 - mae: 22.7543\n",
            "Epoch 31/100\n",
            "2/2 [==============================] - 0s 7ms/step - loss: 9.7060 - mae: 9.7060\n",
            "Epoch 32/100\n",
            "2/2 [==============================] - 0s 7ms/step - loss: 11.7047 - mae: 11.7047\n",
            "Epoch 33/100\n",
            "2/2 [==============================] - 0s 7ms/step - loss: 8.5000 - mae: 8.5000\n",
            "Epoch 34/100\n",
            "2/2 [==============================] - 0s 11ms/step - loss: 14.9842 - mae: 14.9842\n",
            "Epoch 35/100\n",
            "2/2 [==============================] - 0s 11ms/step - loss: 7.5986 - mae: 7.5986\n",
            "Epoch 36/100\n",
            "2/2 [==============================] - 0s 7ms/step - loss: 17.8407 - mae: 17.8407\n",
            "Epoch 37/100\n",
            "2/2 [==============================] - 0s 7ms/step - loss: 7.2660 - mae: 7.2660\n",
            "Epoch 38/100\n",
            "2/2 [==============================] - 0s 7ms/step - loss: 11.7546 - mae: 11.7546\n",
            "Epoch 39/100\n",
            "2/2 [==============================] - 0s 7ms/step - loss: 15.2480 - mae: 15.2480\n",
            "Epoch 40/100\n",
            "2/2 [==============================] - 0s 8ms/step - loss: 12.9512 - mae: 12.9512\n",
            "Epoch 41/100\n",
            "2/2 [==============================] - 0s 8ms/step - loss: 6.7562 - mae: 6.7562\n",
            "Epoch 42/100\n",
            "2/2 [==============================] - 0s 7ms/step - loss: 11.5904 - mae: 11.5904\n",
            "Epoch 43/100\n",
            "2/2 [==============================] - 0s 7ms/step - loss: 9.3490 - mae: 9.3490\n",
            "Epoch 44/100\n",
            "2/2 [==============================] - 0s 8ms/step - loss: 23.2930 - mae: 23.2930\n",
            "Epoch 45/100\n",
            "2/2 [==============================] - 0s 9ms/step - loss: 13.6293 - mae: 13.6293\n",
            "Epoch 46/100\n",
            "2/2 [==============================] - 0s 7ms/step - loss: 6.7244 - mae: 6.7244\n",
            "Epoch 47/100\n",
            "2/2 [==============================] - 0s 7ms/step - loss: 8.6621 - mae: 8.6621\n",
            "Epoch 48/100\n",
            "2/2 [==============================] - 0s 7ms/step - loss: 11.8082 - mae: 11.8082\n",
            "Epoch 49/100\n",
            "2/2 [==============================] - 0s 8ms/step - loss: 9.1527 - mae: 9.1527\n",
            "Epoch 50/100\n",
            "2/2 [==============================] - 0s 9ms/step - loss: 12.5454 - mae: 12.5454\n",
            "Epoch 51/100\n",
            "2/2 [==============================] - 0s 8ms/step - loss: 8.7795 - mae: 8.7795\n",
            "Epoch 52/100\n",
            "2/2 [==============================] - 0s 7ms/step - loss: 19.0531 - mae: 19.0531\n",
            "Epoch 53/100\n",
            "2/2 [==============================] - 0s 7ms/step - loss: 8.6497 - mae: 8.6497\n",
            "Epoch 54/100\n",
            "2/2 [==============================] - 0s 8ms/step - loss: 13.9480 - mae: 13.9480\n",
            "Epoch 55/100\n",
            "2/2 [==============================] - 0s 8ms/step - loss: 21.9637 - mae: 21.9637\n",
            "Epoch 56/100\n",
            "2/2 [==============================] - 0s 7ms/step - loss: 13.0230 - mae: 13.0230\n",
            "Epoch 57/100\n",
            "2/2 [==============================] - 0s 7ms/step - loss: 6.7638 - mae: 6.7638\n",
            "Epoch 58/100\n",
            "2/2 [==============================] - 0s 7ms/step - loss: 6.6020 - mae: 6.6020\n",
            "Epoch 59/100\n",
            "2/2 [==============================] - 0s 7ms/step - loss: 12.7911 - mae: 12.7911\n",
            "Epoch 60/100\n",
            "2/2 [==============================] - 0s 7ms/step - loss: 11.4971 - mae: 11.4971\n",
            "Epoch 61/100\n",
            "2/2 [==============================] - 0s 8ms/step - loss: 14.9310 - mae: 14.9310\n",
            "Epoch 62/100\n",
            "2/2 [==============================] - 0s 8ms/step - loss: 7.6573 - mae: 7.6573\n",
            "Epoch 63/100\n",
            "2/2 [==============================] - 0s 7ms/step - loss: 7.9699 - mae: 7.9699\n",
            "Epoch 64/100\n",
            "2/2 [==============================] - 0s 7ms/step - loss: 15.6123 - mae: 15.6123\n",
            "Epoch 65/100\n",
            "2/2 [==============================] - 0s 7ms/step - loss: 12.0845 - mae: 12.0845\n",
            "Epoch 66/100\n",
            "2/2 [==============================] - 0s 8ms/step - loss: 11.6315 - mae: 11.6315\n",
            "Epoch 67/100\n",
            "2/2 [==============================] - 0s 9ms/step - loss: 5.7821 - mae: 5.7821\n",
            "Epoch 68/100\n",
            "2/2 [==============================] - 0s 7ms/step - loss: 11.5251 - mae: 11.5251\n",
            "Epoch 69/100\n",
            "2/2 [==============================] - 0s 7ms/step - loss: 19.2487 - mae: 19.2487\n",
            "Epoch 70/100\n",
            "2/2 [==============================] - 0s 8ms/step - loss: 9.1904 - mae: 9.1904\n",
            "Epoch 71/100\n",
            "2/2 [==============================] - 0s 7ms/step - loss: 9.5700 - mae: 9.5700\n",
            "Epoch 72/100\n",
            "2/2 [==============================] - 0s 8ms/step - loss: 12.0004 - mae: 12.0004\n",
            "Epoch 73/100\n",
            "2/2 [==============================] - 0s 9ms/step - loss: 11.1139 - mae: 11.1139\n",
            "Epoch 74/100\n",
            "2/2 [==============================] - 0s 9ms/step - loss: 24.5956 - mae: 24.5956\n",
            "Epoch 75/100\n",
            "2/2 [==============================] - 0s 9ms/step - loss: 7.9160 - mae: 7.9160\n",
            "Epoch 76/100\n",
            "2/2 [==============================] - 0s 7ms/step - loss: 9.2911 - mae: 9.2911\n",
            "Epoch 77/100\n",
            "2/2 [==============================] - 0s 7ms/step - loss: 10.7920 - mae: 10.7920\n",
            "Epoch 78/100\n",
            "2/2 [==============================] - 0s 8ms/step - loss: 14.3272 - mae: 14.3272\n",
            "Epoch 79/100\n",
            "2/2 [==============================] - 0s 10ms/step - loss: 19.2856 - mae: 19.2856\n",
            "Epoch 80/100\n",
            "2/2 [==============================] - 0s 7ms/step - loss: 13.0179 - mae: 13.0179\n",
            "Epoch 81/100\n",
            "2/2 [==============================] - 0s 7ms/step - loss: 7.6270 - mae: 7.6270\n",
            "Epoch 82/100\n",
            "2/2 [==============================] - 0s 12ms/step - loss: 9.3992 - mae: 9.3992\n",
            "Epoch 83/100\n",
            "2/2 [==============================] - 0s 7ms/step - loss: 10.7700 - mae: 10.7700\n",
            "Epoch 84/100\n",
            "2/2 [==============================] - 0s 7ms/step - loss: 7.4330 - mae: 7.4330\n",
            "Epoch 85/100\n",
            "2/2 [==============================] - 0s 7ms/step - loss: 16.6395 - mae: 16.6395\n",
            "Epoch 86/100\n",
            "2/2 [==============================] - 0s 7ms/step - loss: 13.8405 - mae: 13.8405\n",
            "Epoch 87/100\n",
            "2/2 [==============================] - 0s 7ms/step - loss: 11.5660 - mae: 11.5660\n",
            "Epoch 88/100\n",
            "2/2 [==============================] - 0s 8ms/step - loss: 9.7598 - mae: 9.7598\n",
            "Epoch 89/100\n",
            "2/2 [==============================] - 0s 7ms/step - loss: 7.2801 - mae: 7.2801\n",
            "Epoch 90/100\n",
            "2/2 [==============================] - 0s 7ms/step - loss: 15.3451 - mae: 15.3451\n",
            "Epoch 91/100\n",
            "2/2 [==============================] - 0s 7ms/step - loss: 12.1523 - mae: 12.1523\n",
            "Epoch 92/100\n",
            "2/2 [==============================] - 0s 6ms/step - loss: 9.6767 - mae: 9.6767\n",
            "Epoch 93/100\n",
            "2/2 [==============================] - 0s 7ms/step - loss: 8.9839 - mae: 8.9839\n",
            "Epoch 94/100\n",
            "2/2 [==============================] - 0s 7ms/step - loss: 12.2081 - mae: 12.2081\n",
            "Epoch 95/100\n",
            "2/2 [==============================] - 0s 9ms/step - loss: 11.3593 - mae: 11.3593\n",
            "Epoch 96/100\n",
            "2/2 [==============================] - 0s 8ms/step - loss: 5.5257 - mae: 5.5257\n",
            "Epoch 97/100\n",
            "2/2 [==============================] - 0s 8ms/step - loss: 13.9163 - mae: 13.9163\n",
            "Epoch 98/100\n",
            "2/2 [==============================] - 0s 8ms/step - loss: 6.0342 - mae: 6.0342\n",
            "Epoch 99/100\n",
            "2/2 [==============================] - 0s 9ms/step - loss: 8.7440 - mae: 8.7440\n",
            "Epoch 100/100\n",
            "2/2 [==============================] - 0s 8ms/step - loss: 17.2891 - mae: 17.2891\n"
          ]
        },
        {
          "output_type": "execute_result",
          "data": {
            "text/plain": [
              "<keras.src.callbacks.History at 0x7d333506e7a0>"
            ]
          },
          "metadata": {},
          "execution_count": 117
        }
      ]
    },
    {
      "cell_type": "code",
      "source": [
        "y_preds_2 = model_2.predict(X1_test)\n",
        "plot_predictions(predictions = y_preds_2)"
      ],
      "metadata": {
        "colab": {
          "base_uri": "https://localhost:8080/",
          "height": 561
        },
        "id": "wtDHBsnaTszx",
        "outputId": "c0971b7b-e636-497c-8015-fa342febf9f1"
      },
      "execution_count": null,
      "outputs": [
        {
          "output_type": "stream",
          "name": "stdout",
          "text": [
            "1/1 [==============================] - 0s 82ms/step\n"
          ]
        },
        {
          "output_type": "display_data",
          "data": {
            "text/plain": [
              "<Figure size 1000x700 with 1 Axes>"
            ],
            "image/png": "[encoded data removed]"
          },
          "metadata": {}
        }
      ]
    },
    {
      "cell_type": "code",
      "source": [
        "# calculate evaluation matrices\n",
        "\n",
        "mae_1 = mae(y1_test,tf.squeeze(y_preds_2))\n",
        "mse_1 = mse(y1_test,tf.squeeze(y_preds_2))\n",
        "mae_1, mse_1"
      ],
      "metadata": {
        "colab": {
          "base_uri": "https://localhost:8080/"
        },
        "id": "nTmqMW2nT_BU",
        "outputId": "8dc359ba-53e8-4580-a318-e48e26edb99e"
      },
      "execution_count": null,
      "outputs": [
        {
          "output_type": "execute_result",
          "data": {
            "text/plain": [
              "(<tf.Tensor: shape=(), dtype=float32, numpy=3.4012191>,\n",
              " <tf.Tensor: shape=(), dtype=float32, numpy=12.312082>)"
            ]
          },
          "metadata": {},
          "execution_count": 119
        }
      ]
    },
    {
      "cell_type": "markdown",
      "source": [
        "## Saving the model"
      ],
      "metadata": {
        "id": "NuFUUDHud7vx"
      }
    },
    {
      "cell_type": "markdown",
      "source": [
        "Two main formats to save the model:\n",
        "* The saved model format by tensorflow\n",
        "* HD5 format by keras"
      ],
      "metadata": {
        "id": "Nnlyno27d-1Q"
      }
    },
    {
      "cell_type": "code",
      "source": [
        "model_2.save(\"first_tensorflow_model_savedformat\")"
      ],
      "metadata": {
        "id": "aSmi3cnae4l0"
      },
      "execution_count": null,
      "outputs": []
    },
    {
      "cell_type": "code",
      "source": [
        "model_2.save(\"first_tensorflow_modelin_hd5.h5\")"
      ],
      "metadata": {
        "colab": {
          "base_uri": "https://localhost:8080/"
        },
        "id": "zS3kJgFZgfFV",
        "outputId": "286019ca-0c3a-4406-8fef-b5120ce6eb8d"
      },
      "execution_count": null,
      "outputs": [
        {
          "output_type": "stream",
          "name": "stderr",
          "text": [
            "/usr/local/lib/python3.10/dist-packages/keras/src/engine/training.py:3103: UserWarning: You are saving your model as an HDF5 file via `model.save()`. This file format is considered legacy. We recommend using instead the native Keras format, e.g. `model.save('my_model.keras')`.\n",
            "  saving_api.save_model(\n"
          ]
        }
      ]
    },
    {
      "cell_type": "code",
      "source": [
        "model_2.save(\"first_tensorflow_modelin_newkerasformat.keras\")"
      ],
      "metadata": {
        "id": "vwakEqGqgzlC"
      },
      "execution_count": null,
      "outputs": []
    },
    {
      "cell_type": "code",
      "source": [],
      "metadata": {
        "id": "BNTbZ1U6iBYn"
      },
      "execution_count": null,
      "outputs": []
    }
  ]
}